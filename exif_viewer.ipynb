{
 "cells": [
  {
   "cell_type": "code",
   "execution_count": 30,
   "metadata": {
    "collapsed": false
   },
   "outputs": [
    {
     "data": {
      "text/plain": [
       "['.DS_Store',\n",
       " '.ipynb_checkpoints',\n",
       " 'exif_viewer.ipynb',\n",
       " 'get_gps_data.py',\n",
       " 'IMG_3863.JPG',\n",
       " 'script_notes.py']"
      ]
     },
     "execution_count": 30,
     "metadata": {},
     "output_type": "execute_result"
    }
   ],
   "source": [
    "import PIL.Image\n",
    "import PIL.ExifTags\n",
    "import os\n",
    "os.listdir('/Users/robertsonwang/Desktop/Python/exif_scrapper')"
   ]
  },
  {
   "cell_type": "code",
   "execution_count": 16,
   "metadata": {
    "collapsed": true
   },
   "outputs": [],
   "source": [
    "image_types = ['.ras', '.xwd', '.bmp', '.jpe', '.jpg', '.jpeg', '.xpm', '.ief', '.pbm', '.tif', \n",
    "'.gif', '.ppm', '.xbm', '.tiff', '.rgb', '.pgm', '.png', '.pnm']\n",
    "image_types.extend([x.upper() for x in image_types])"
   ]
  },
  {
   "cell_type": "code",
   "execution_count": 27,
   "metadata": {
    "collapsed": false
   },
   "outputs": [],
   "source": [
    "image_files = os.listdir('/Users/robertsonwang/Desktop/Python/exif_scrapper')\n",
    "image_files = [file_name + file_extension for (file_name, file_extension) in [os.path.splitext(x) for x in image_files]\n",
    "if file_extension in image_types]"
   ]
  },
  {
   "cell_type": "code",
   "execution_count": 31,
   "metadata": {
    "collapsed": false
   },
   "outputs": [
    {
     "ename": "NameError",
     "evalue": "name 'convert_to_degress' is not defined",
     "output_type": "error",
     "traceback": [
      "\u001b[0;31m---------------------------------------------------------------------------\u001b[0m",
      "\u001b[0;31mNameError\u001b[0m                                 Traceback (most recent call last)",
      "\u001b[0;32m<ipython-input-31-875e48a0284d>\u001b[0m in \u001b[0;36m<module>\u001b[0;34m()\u001b[0m\n\u001b[1;32m     16\u001b[0m         \u001b[0mlong_value\u001b[0m \u001b[0;34m=\u001b[0m \u001b[0mgpsinfo\u001b[0m\u001b[0;34m[\u001b[0m\u001b[0;34m'GPSLongitude'\u001b[0m\u001b[0;34m]\u001b[0m\u001b[0;34m\u001b[0m\u001b[0m\n\u001b[1;32m     17\u001b[0m \u001b[0;34m\u001b[0m\u001b[0m\n\u001b[0;32m---> 18\u001b[0;31m         \u001b[0;32mprint\u001b[0m \u001b[0mconvert_to_degress\u001b[0m\u001b[0;34m(\u001b[0m\u001b[0mlat_value\u001b[0m\u001b[0;34m)\u001b[0m\u001b[0;34m\u001b[0m\u001b[0m\n\u001b[0m\u001b[1;32m     19\u001b[0m         \u001b[0;32mprint\u001b[0m \u001b[0mconvert_to_degress\u001b[0m\u001b[0;34m(\u001b[0m\u001b[0mlong_value\u001b[0m\u001b[0;34m)\u001b[0m\u001b[0;34m\u001b[0m\u001b[0m\n\u001b[1;32m     20\u001b[0m     \u001b[0;32mexcept\u001b[0m \u001b[0mKeyError\u001b[0m\u001b[0;34m:\u001b[0m\u001b[0;34m\u001b[0m\u001b[0m\n",
      "\u001b[0;31mNameError\u001b[0m: name 'convert_to_degress' is not defined"
     ]
    }
   ],
   "source": [
    "for image in image_files:\n",
    "    img = PIL.Image.open(image)\n",
    "    exif_data = img._getexif()\n",
    "    exif = {\n",
    "        PIL.ExifTags.TAGS[k]: v\n",
    "        for k, v in img._getexif().items()\n",
    "        if k in PIL.ExifTags.TAGS\n",
    "    }\n",
    "    \n",
    "    gpsinfo = {}\n",
    "    try:\n",
    "        for key in exif['GPSInfo'].keys():\n",
    "            decode = PIL.ExifTags.GPSTAGS.get(key,key)\n",
    "            gpsinfo[decode] = exif['GPSInfo'][key]\n",
    "        lat_value = gpsinfo['GPSLatitude']\n",
    "        long_value = gpsinfo['GPSLongitude']\n",
    "\n",
    "        print convert_to_degress(lat_value)\n",
    "        print convert_to_degress(long_value)\n",
    "    except KeyError:\n",
    "        print(\"No GPS data was found in the exif metadata\")"
   ]
  },
  {
   "cell_type": "code",
   "execution_count": 36,
   "metadata": {
    "collapsed": false
   },
   "outputs": [
    {
     "data": {
      "text/plain": [
       "{1: u'N',\n",
       " 2: ((38, 1), (55, 1), (1312, 100)),\n",
       " 3: u'W',\n",
       " 4: ((77, 1), (0, 1), (4878, 100)),\n",
       " 5: '\\x00',\n",
       " 6: (11589, 310),\n",
       " 7: ((14, 1), (28, 1), (2176, 100)),\n",
       " 12: u'K',\n",
       " 13: (0, 1),\n",
       " 16: u'M',\n",
       " 17: (4325, 27),\n",
       " 23: u'M',\n",
       " 24: (9185, 27),\n",
       " 29: u'2017:09:04'}"
      ]
     },
     "execution_count": 36,
     "metadata": {},
     "output_type": "execute_result"
    }
   ],
   "source": [
    "for key in exif['GPSInfo'].keys():\n",
    "    decode = PIL.ExifTags.GPSTAGS.get(key,key)\n",
    "    gpsinfo[decode] = exif['GPSInfo'][key]\n",
    "exif['GPSInfo']"
   ]
  },
  {
   "cell_type": "code",
   "execution_count": 37,
   "metadata": {
    "collapsed": false
   },
   "outputs": [
    {
     "data": {
      "text/plain": [
       "{'GPSAltitude': (11589, 310),\n",
       " 'GPSAltitudeRef': '\\x00',\n",
       " 'GPSDateStamp': u'2017:09:04',\n",
       " 'GPSDestBearing': (9185, 27),\n",
       " 'GPSDestBearingRef': u'M',\n",
       " 'GPSImgDirection': (4325, 27),\n",
       " 'GPSImgDirectionRef': u'M',\n",
       " 'GPSLatitude': ((38, 1), (55, 1), (1312, 100)),\n",
       " 'GPSLatitudeRef': u'N',\n",
       " 'GPSLongitude': ((77, 1), (0, 1), (4878, 100)),\n",
       " 'GPSLongitudeRef': u'W',\n",
       " 'GPSSpeed': (0, 1),\n",
       " 'GPSSpeedRef': u'K',\n",
       " 'GPSTimeStamp': ((14, 1), (28, 1), (2176, 100))}"
      ]
     },
     "execution_count": 37,
     "metadata": {},
     "output_type": "execute_result"
    }
   ],
   "source": [
    "gpsinfo"
   ]
  }
 ],
 "metadata": {
  "anaconda-cloud": {},
  "kernelspec": {
   "display_name": "Python [conda root]",
   "language": "python",
   "name": "conda-root-py"
  },
  "language_info": {
   "codemirror_mode": {
    "name": "ipython",
    "version": 2
   },
   "file_extension": ".py",
   "mimetype": "text/x-python",
   "name": "python",
   "nbconvert_exporter": "python",
   "pygments_lexer": "ipython2",
   "version": "2.7.12"
  }
 },
 "nbformat": 4,
 "nbformat_minor": 1
}
