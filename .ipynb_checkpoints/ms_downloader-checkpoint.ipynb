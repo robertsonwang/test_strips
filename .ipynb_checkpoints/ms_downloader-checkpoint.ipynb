{
 "cells": [
  {
   "cell_type": "code",
   "execution_count": 32,
   "metadata": {
    "collapsed": false
   },
   "outputs": [],
   "source": [
    "import requests\n",
    "import urllib2\n",
    "\n",
    "url = 'http://www.morganstanley.com/about-us-ir/shareholder/'\n",
    "quarters = [str(a) + b for (a,b) in zip(range(1,5), ['q'] * 4)]\n",
    "years = range(2000,2018)\n",
    "quarter_year = [y + str(x) + '.pdf' for x in years for y in quarters]\n"
   ]
  },
  {
   "cell_type": "code",
   "execution_count": 33,
   "metadata": {
    "collapsed": false
   },
   "outputs": [
    {
     "name": "stdout",
     "output_type": "stream",
     "text": [
      "Completed\n"
     ]
    }
   ],
   "source": [
    "def main():\n",
    "    download_file(url+quarter_year[0])\n",
    "\n",
    "def download_file(download_url):\n",
    "    response = urllib2.urlopen(download_url)\n",
    "    file = open(\"document.pdf\", 'w')\n",
    "    file.write(response.read())\n",
    "    file.close()\n",
    "    print(\"Completed\")\n",
    "\n",
    "if __name__ == \"__main__\":\n",
    "    main()"
   ]
  }
 ],
 "metadata": {
  "anaconda-cloud": {},
  "kernelspec": {
   "display_name": "Python [default]",
   "language": "python",
   "name": "python2"
  },
  "language_info": {
   "codemirror_mode": {
    "name": "ipython",
    "version": 2
   },
   "file_extension": ".py",
   "mimetype": "text/x-python",
   "name": "python",
   "nbconvert_exporter": "python",
   "pygments_lexer": "ipython2",
   "version": "2.7.12"
  }
 },
 "nbformat": 4,
 "nbformat_minor": 1
}
