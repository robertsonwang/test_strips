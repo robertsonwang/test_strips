{
 "cells": [
  {
   "cell_type": "code",
   "execution_count": 55,
   "metadata": {
    "collapsed": false
   },
   "outputs": [],
   "source": [
    "import tensorflow as tf\n",
    "import sys\n",
    "import numpy as np\n",
    "import json\n",
    "sys.path.append('/Users/robertsonwang/Desktop/models/research/')\n",
    "from object_detection.utils import dataset_util\n",
    "from PIL import Image\n",
    "import cv2\n",
    "import json"
   ]
  },
  {
   "cell_type": "code",
   "execution_count": 59,
   "metadata": {
    "collapsed": false
   },
   "outputs": [],
   "source": [
    "def make_json_bboxes(filename, file_path, label = '8.0-9.0', output_path = ''):\n",
    "\twith open(file_path + filename, 'r') as read_file:\n",
    "\t    bboxes = read_file.read()\n",
    "\tbboxes = bboxes.replace(':'+label, '')\n",
    "\tclean_list = [x + ')]' for x in bboxes.split(')]') if x != '']\n",
    "\n",
    "\tdict_key = []\n",
    "\tdict_list = []\n",
    "\n",
    "\tfor item in test_list:\n",
    "\t    tup = item.split(':')\n",
    "\t    dict_key.append(tup[0].encode('utf-8'))\n",
    "\t    dict_list.append(eval(tup[1]))\n",
    "\tfinal_dict = {k:v for k,v in zip(dict_key, dict_list)}\n",
    "\n",
    "\twith open(output_path + filename.split('.')[0] + '.json', 'w') as outfile:\n",
    "\t    json.dump(final_dict, outfile)"
   ]
  },
  {
   "cell_type": "code",
   "execution_count": 60,
   "metadata": {
    "collapsed": false
   },
   "outputs": [],
   "source": [
    "make_json_bboxes('bound_results_train.txt', '/Users/robertsonwang/Desktop/bb_images/data/')"
   ]
  },
  {
   "cell_type": "code",
   "execution_count": 2,
   "metadata": {
    "collapsed": false
   },
   "outputs": [],
   "source": [
    "def create_tf_example(encoded_ts, filename, xmin, xmax, ymin, ymax):\n",
    "#   Creates a tf proto from sample test_strip image.\n",
    "#   Args:\n",
    "#     encoded_ts: The jpg encoded data of the test_strip image.\n",
    "#   Returns:\n",
    "#     example: The created tf.Example.\n",
    "\n",
    "    height = 250\n",
    "    width = 250\n",
    "    image_format = b'jpg'\n",
    "\n",
    "    xmins = [float(xmin)/float(width)]\n",
    "    xmaxs = [float(xmax)/float(width)]\n",
    "    ymins = [float(ymin)/float(height)]\n",
    "    ymaxs = [float(ymax)/float(height)]\n",
    "\n",
    "    classes_text = ['test_strip']\n",
    "    classes = [1]\n",
    "\n",
    "    tf_example = tf.train.Example(features=tf.train.Features(feature={\n",
    "      'image/height': dataset_util.int64_feature(height),\n",
    "      'image/width': dataset_util.int64_feature(width),\n",
    "      'image/filename': dataset_util.bytes_feature(filename),\n",
    "      'image/source_id': dataset_util.bytes_feature(filename),\n",
    "      'image/encoded': dataset_util.bytes_feature(encoded_ts),\n",
    "      'image/format': dataset_util.bytes_feature(image_format),\n",
    "      'image/object/bbox/xmin': dataset_util.float_list_feature(xmins),\n",
    "      'image/object/bbox/xmax': dataset_util.float_list_feature(xmaxs),\n",
    "      'image/object/bbox/ymin': dataset_util.float_list_feature(ymins),\n",
    "      'image/object/bbox/ymax': dataset_util.float_list_feature(ymaxs),\n",
    "      'image/object/class/text': dataset_util.bytes_list_feature(classes_text),\n",
    "      'image/object/class/label': dataset_util.int64_list_feature(classes),\n",
    "    }))\n",
    "    \n",
    "    return tf_example"
   ]
  },
  {
   "cell_type": "code",
   "execution_count": 3,
   "metadata": {
    "collapsed": true
   },
   "outputs": [],
   "source": [
    "def load_image(addr):\n",
    "    # read an image and resize to (224, 224)\n",
    "    # cv2 load images as BGR, convert it to RGB\n",
    "    img = cv2.imread(addr)\n",
    "    img = cv2.resize(img, (250, 250), interpolation=cv2.INTER_CUBIC)\n",
    "    img = cv2.cvtColor(img, cv2.COLOR_BGR2RGB)\n",
    "    img = img.astype(np.float32)\n",
    "    return img\n",
    "\n",
    "def importImage(fileName):\n",
    "    imgText = open(fileName, 'rb')\n",
    "    imgTextStr = imgText.read()\n",
    "    imgText.close()\n",
    "    return imgTextStr"
   ]
  },
  {
   "cell_type": "code",
   "execution_count": 4,
   "metadata": {
    "collapsed": false
   },
   "outputs": [],
   "source": [
    "file_name = 'IMG_0896.JPG'\n",
    "test_image = importImage(file_name)\n",
    "xmin = 81.0\n",
    "xmax = 138.0\n",
    "ymin = 97.0\n",
    "ymax = 153.0\n",
    "test = create_tf_example(test_image, file_name, xmin, xmax, ymin, ymax)"
   ]
  },
  {
   "cell_type": "code",
   "execution_count": 14,
   "metadata": {
    "collapsed": false
   },
   "outputs": [],
   "source": [
    "bboxes = {\"/Users/robertsonwang/Desktop/bb_images/IMG_0896.JPG\":[(81, 97), (138, 153)], \n",
    "          \"/Users/robertsonwang/Desktop/bb_images/IMG_0897.JPG\":[(77, 101), (126, 142)], \n",
    "          \"/Users/robertsonwang/Desktop/bb_images/IMG_0898.JPG\":[(80, 60), (151, 125)], \n",
    "          \"/Users/robertsonwang/Desktop/bb_images/IMG_0899.JPG\":[(104, 91), (152, 147)], \n",
    "          \"/Users/robertsonwang/Desktop/bb_images/IMG_0900.JPG\":[(61, 95), (104, 177)], \n",
    "          \"/Users/robertsonwang/Desktop/bb_images/IMG_0901.JPG\":[(88, 87), (135, 139)], \n",
    "          \"/Users/robertsonwang/Desktop/bb_images/IMG_0902.JPG\":[(71, 117), (117, 155)], \n",
    "          \"/Users/robertsonwang/Desktop/bb_images/IMG_0903.JPG\":[(93, 85), (169, 162)], \n",
    "          \"/Users/robertsonwang/Desktop/bb_images/IMG_0904.JPG\":[(78, 87), (174, 156)], \n",
    "          \"/Users/robertsonwang/Desktop/bb_images/IMG_0905.JPG\":[(75, 81), (169, 164)], \n",
    "          \"/Users/robertsonwang/Desktop/bb_images/IMG_0906.JPG\":[(99, 105), (180, 176)], \n",
    "          \"/Users/robertsonwang/Desktop/bb_images/IMG_0908.JPG\":[(84, 62), (164, 140)]}"
   ]
  },
  {
   "cell_type": "code",
   "execution_count": 12,
   "metadata": {
    "collapsed": false
   },
   "outputs": [],
   "source": [
    "def main(_):\n",
    "    writer = tf.python_io.TFRecordWriter('/Users/robertsonwang/Desktop/bb_images/shards/')\n",
    "\n",
    "    for image in bboxes.keys():\n",
    "        image_jpg = importImage(image)\n",
    "        xmin, xmax, ymin, ymax = float(bboxes[0][0]), float(bboxes[1][0]), \\\n",
    "                                float(bboxes[0][1]), float(bboxes[1][1])\n",
    "        tf_example = create_tf_example(image_jpg, image, xmin, xmax, ymin, ymax)\n",
    "        tf_example = create_tf_example(example)\n",
    "        writer.write(tf_example.SerializeToString())\n",
    "\n",
    "    writer.close()"
   ]
  },
  {
   "cell_type": "code",
   "execution_count": 2,
   "metadata": {
    "collapsed": false
   },
   "outputs": [],
   "source": [
    "import json \n",
    "\n",
    "with open('/Users/robertsonwang/Desktop/Python/test_strips/data/bound_results_train.json', 'rb') as data_file:    \n",
    "    bboxes = json.load(data_file)"
   ]
  },
  {
   "cell_type": "code",
   "execution_count": 5,
   "metadata": {
    "collapsed": false
   },
   "outputs": [
    {
     "ename": "IOError",
     "evalue": "[Errno 2] No such file or directory: '/Users/robertsonwang/Desktop/Python/test_strips/train/8.0-9.0/IMG_0910.JPG'",
     "output_type": "error",
     "traceback": [
      "\u001b[0;31m---------------------------------------------------------------------------\u001b[0m",
      "\u001b[0;31mIOError\u001b[0m                                   Traceback (most recent call last)",
      "\u001b[0;32m<ipython-input-5-aa51c7cab1d9>\u001b[0m in \u001b[0;36m<module>\u001b[0;34m()\u001b[0m\n\u001b[1;32m      7\u001b[0m \u001b[0;32mfor\u001b[0m \u001b[0mimage\u001b[0m \u001b[0;32min\u001b[0m \u001b[0mbboxes\u001b[0m\u001b[0;34m.\u001b[0m\u001b[0mkeys\u001b[0m\u001b[0;34m(\u001b[0m\u001b[0;34m)\u001b[0m\u001b[0;34m:\u001b[0m\u001b[0;34m\u001b[0m\u001b[0m\n\u001b[1;32m      8\u001b[0m     \u001b[0mimage\u001b[0m \u001b[0;34m=\u001b[0m \u001b[0mstr\u001b[0m\u001b[0;34m(\u001b[0m\u001b[0mimage\u001b[0m\u001b[0;34m)\u001b[0m\u001b[0;34m\u001b[0m\u001b[0m\n\u001b[0;32m----> 9\u001b[0;31m     \u001b[0mimage_jpg\u001b[0m \u001b[0;34m=\u001b[0m \u001b[0mimportImage\u001b[0m\u001b[0;34m(\u001b[0m\u001b[0mimage\u001b[0m\u001b[0;34m)\u001b[0m\u001b[0;34m\u001b[0m\u001b[0m\n\u001b[0m\u001b[1;32m     10\u001b[0m     \u001b[0;32mbreak\u001b[0m\u001b[0;34m\u001b[0m\u001b[0m\n",
      "\u001b[0;32m<ipython-input-5-aa51c7cab1d9>\u001b[0m in \u001b[0;36mimportImage\u001b[0;34m(fileName)\u001b[0m\n\u001b[1;32m      1\u001b[0m \u001b[0;32mdef\u001b[0m \u001b[0mimportImage\u001b[0m\u001b[0;34m(\u001b[0m\u001b[0mfileName\u001b[0m\u001b[0;34m)\u001b[0m\u001b[0;34m:\u001b[0m\u001b[0;34m\u001b[0m\u001b[0m\n\u001b[0;32m----> 2\u001b[0;31m     \u001b[0mimgText\u001b[0m \u001b[0;34m=\u001b[0m \u001b[0mopen\u001b[0m\u001b[0;34m(\u001b[0m\u001b[0mfileName\u001b[0m\u001b[0;34m,\u001b[0m \u001b[0;34m'rb'\u001b[0m\u001b[0;34m)\u001b[0m\u001b[0;34m\u001b[0m\u001b[0m\n\u001b[0m\u001b[1;32m      3\u001b[0m     \u001b[0mimgTextStr\u001b[0m \u001b[0;34m=\u001b[0m \u001b[0mimgText\u001b[0m\u001b[0;34m.\u001b[0m\u001b[0mread\u001b[0m\u001b[0;34m(\u001b[0m\u001b[0;34m)\u001b[0m\u001b[0;34m\u001b[0m\u001b[0m\n\u001b[1;32m      4\u001b[0m     \u001b[0mimgText\u001b[0m\u001b[0;34m.\u001b[0m\u001b[0mclose\u001b[0m\u001b[0;34m(\u001b[0m\u001b[0;34m)\u001b[0m\u001b[0;34m\u001b[0m\u001b[0m\n\u001b[1;32m      5\u001b[0m     \u001b[0;32mreturn\u001b[0m \u001b[0mimgTextStr\u001b[0m\u001b[0;34m\u001b[0m\u001b[0m\n",
      "\u001b[0;31mIOError\u001b[0m: [Errno 2] No such file or directory: '/Users/robertsonwang/Desktop/Python/test_strips/train/8.0-9.0/IMG_0910.JPG'"
     ]
    }
   ],
   "source": [
    "def importImage(fileName):\n",
    "    imgText = open(fileName, 'rb')\n",
    "    imgTextStr = imgText.read()\n",
    "    imgText.close()\n",
    "    return imgTextStr\n",
    "\n",
    "for image in bboxes.keys():\n",
    "    image = str(image)\n",
    "    image_jpg = importImage(image)\n",
    "    break"
   ]
  }
 ],
 "metadata": {
  "anaconda-cloud": {},
  "kernelspec": {
   "display_name": "Python [default]",
   "language": "python",
   "name": "python2"
  }
 },
 "nbformat": 4,
 "nbformat_minor": 1
}
